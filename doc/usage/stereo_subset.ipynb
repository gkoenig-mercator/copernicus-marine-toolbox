{
 "cells": [
  {
   "cell_type": "markdown",
   "metadata": {},
   "source": [
    "(stereographic-subsetting)=\n",
    "# Using Subset on Data With Original Grids"
   ]
  },
  {
   "cell_type": "markdown",
   "metadata": {},
   "source": [
    "The **geographical grid**, based on longitude and latitude, is widely used for mapping and navigation. However, as one approaches **±90 degrees latitude**, this projection methods introduces significant distortions at higher latitudes and singularities at the poles. To address this, a commonly used alternative is the stereographic projection, which preserves local shapes and angles while avoiding the ±90-degree singularities. This projection is used in computational models that produce Arctic data and is therefore referred to as the original format, grid, or coordinate system for Arctic data. The specific projection used for each dataset is detailed in the product documentation, which can be explored in the [Copernicus Marine Data Store](https://data.marine.copernicus.eu/products).\n",
    "\n",
    "In many cases, data is reprojected onto an **equispaced latitude-longitude grid** for consistency. However, when applied to stereographic data, this reprojection can introduce distortions and reduce the relative weight of data at lower latitudes. To mitigate this issue, the data is provided in both its original stereographic format and a reprojected version.\n",
    "\n",
    "This documentation demonstrates how to use the Copernicus Marine Toolbox to access and work with datasets in both the original and reprojected formats."
   ]
  },
  {
   "cell_type": "markdown",
   "metadata": {},
   "source": [
    "## Zones Delimitations in Different Grids"
   ]
  },
  {
   "cell_type": "markdown",
   "metadata": {},
   "source": [
    "For the datasets are provided in a longitude/latitude projection, areas can be selected with subset using the following options: \n",
    "- **Longitude range**: minimum_longitude, maximum_longitude \n",
    "- **Latitude range**: minimum_latitude, maximum_latitude \n",
    "\n",
    "For the datasets are available in their **original grid**, like the stereographic one, areas can be selected with subset using the grid-specific coordinates along the x and y axes: \n",
    "\n",
    "In python:  \n",
    "\n",
    "  - **X-axis rang**e: minimum_x , maximum_x  \n",
    "  - **Y-axis range**: minimum_y , maximum_y  \n",
    "\n",
    "In the CLI: \n",
    "\n",
    "  - **X-axis range**: --minimum-x, --maximum-x \n",
    "  - **Y-axis range**: --minimum-y, --maximum-y \n",
    "\n",
    "In the CLI, those commands also have short forms: \n",
    "\n",
    "  - **X-axis range**: -x, -X \n",
    "  - **Y-axis range**: -y, -Y \n",
    "\n",
    "\n",
    "The s**hort form can be used for both the longitude and latitude projection and the original Grid**. The units will therefore be in the original coordinate system unit if the dataset part chosen is the original one or in latitude for the y range and longitude for the x range if the dataset chosen is the one in longitude and latitude projection. The **default dataset part** is the one in **longitude and latitude projection.** \n",
    "\n",
    "These options allow users to subset data directly in the native grid of the dataset, preserving accuracy and avoiding the distortions that can occur when transforming data into a longitude/latitude format. Understanding the coordinate system of a dataset is essential to selecting the correct bounds for subsetting and ensuring precise data extraction.\n",
    "\n",
    "It should be noted that dataset in stereographic coordinates still have longitudes and latitudes, but they are then **variables and not coordinates.**  \n"
   ]
  },
  {
   "cell_type": "markdown",
   "metadata": {},
   "source": [
    "## Accessing Different Grids via Subset"
   ]
  },
  {
   "cell_type": "markdown",
   "metadata": {},
   "source": [
    "For a given dataset and version, data provided in stereographic projection is stored in a **separate dataset part.** \n",
    "\n",
    "As a result, when subsetting data using the **original grid**, it is essential to explicitly specify the correct dataset part. This ensures that the subset operation is performed on the appropriate projection. \n",
    "\n",
    "  - In the Python interface, the corresponding parameter is specified as: \n",
    "\n",
    "      dataset_part=\"originalGrid\" \n",
    "\n",
    "  - In the command-line interface (CLI), this is done using the option:\n",
    "\n",
    "      --dataset-part originalGrid\n",
    "    \n",
    "Clearly defining the dataset part helps avoid confusion and ensures that data is retrieved in the intended projection. \n",
    "  "
   ]
  },
  {
   "cell_type": "markdown",
   "metadata": {},
   "source": [
    "## Units in the Original Coordinate System"
   ]
  },
  {
   "cell_type": "markdown",
   "metadata": {},
   "source": [
    "When working with original-grid datasets, it is essential to be aware of **significant variations in unit conventions**. These differences can impact data interpretation and subsequent analysis.\n",
    "\n",
    "### Unit Discrepancies \n",
    "\n",
    "The spatial bounds of datasets may be represented using different units, which can affect coordinate system understanding and data processing:\n",
    "\n",
    "   - Some datasets define spatial extents in **meters**, with coordinate ranges such as -5,500,000 to 5,500,000.\n",
    "\n",
    "   - Other datasets utilize a unit scale of **100 kilometers**, with bounds appearing in a format such as -28 to 43.\n",
    "\n",
    "Understanding these variations is critical to ensuring consistency in data handling and visualization.\n",
    "\n",
    "### Methods for Verifying Unit Conventions\n",
    "\n",
    "To accurately determine the unit system used within a dataset, the following verification methods are recommended:\n",
    "\n",
    "   - Inspect the coordinates_extent field in subset responses to confirm the spatial range and unit system.\n",
    "\n",
    "   - Utilize the describe command to review dataset metadata prior to performing subsetting operations, ensuring compatibility with analytical workflows.\n",
    "\n",
    "### Using the Toolbox to Verify Unit Conventions\n",
    "\n",
    "To verify that the units are the ones expected when working with original-grid datasets, it is recommended to inspect the response output using the subset and describe commands.\n",
    "\n",
    "- Checking the Subset Response\n",
    "\n",
    "Use the following command to preview the output before executing the subset operation:\n",
    "```bash\n",
    "copernicusmarine subset -i cmems_mod_arc_phy_my_hflux_P1M-m -y 25000 -Y 850000 -x -10000 -X 1800000 --dry-run --dataset-part originalGrid \n",
    "```\n",
    "The `--dry-run` flag allows for validation of the requested subset parameters without modifying or downloading data, helping to confirm expected results.\n",
    "\n",
    "- Inspecting Dataset Metadata\n",
    "\n",
    "To obtain detailed metadata about the units, you can also use the describe command. Here the outputs will be stored in a file called \"describe_output.json\". \n",
    "\n",
    "```bash\n",
    "copernicusmarine describe -i cmems_mod_arc_phy_my_hflux_P1M-m -e units > describe_output.json\n",
    "```"
   ]
  },
  {
   "cell_type": "markdown",
   "metadata": {},
   "source": [
    "# Examples"
   ]
  },
  {
   "cell_type": "markdown",
   "metadata": {},
   "source": [
    "## Downloading and Plotting Data in Geographic Coordinate System in Python"
   ]
  },
  {
   "cell_type": "markdown",
   "metadata": {},
   "source": [
    "We can use the following command to retrieve chlorophyll concentration, zooplankton carbon density and dissolved oxygen concentration in the artic circle in geographic coordinates: "
   ]
  },
  {
   "cell_type": "code",
   "execution_count": 7,
   "metadata": {},
   "outputs": [
    {
     "ename": "ModuleNotFoundError",
     "evalue": "No module named 'copernicusmarine'",
     "output_type": "error",
     "traceback": [
      "\u001b[0;31m---------------------------------------------------------------------------\u001b[0m",
      "\u001b[0;31mModuleNotFoundError\u001b[0m                       Traceback (most recent call last)",
      "Cell \u001b[0;32mIn[7], line 1\u001b[0m\n\u001b[0;32m----> 1\u001b[0m \u001b[38;5;28;01mimport\u001b[39;00m \u001b[38;5;21;01mcopernicusmarine\u001b[39;00m \u001b[38;5;28;01mas\u001b[39;00m \u001b[38;5;21;01mcmt\u001b[39;00m\n\u001b[1;32m      2\u001b[0m dataset_lonlat \u001b[38;5;241m=\u001b[39m cmt\u001b[38;5;241m.\u001b[39mopen_dataset(\n\u001b[1;32m      3\u001b[0m     dataset_id\u001b[38;5;241m=\u001b[39m\u001b[38;5;124m\"\u001b[39m\u001b[38;5;124mcmems_mod_arc_bgc_my_ecosmo_P1D-m\u001b[39m\u001b[38;5;124m\"\u001b[39m, \n\u001b[1;32m      4\u001b[0m     variables\u001b[38;5;241m=\u001b[39m[\u001b[38;5;124m\"\u001b[39m\u001b[38;5;124mchl\u001b[39m\u001b[38;5;124m\"\u001b[39m, \u001b[38;5;124m\"\u001b[39m\u001b[38;5;124mzooc\u001b[39m\u001b[38;5;124m\"\u001b[39m, \u001b[38;5;124m\"\u001b[39m\u001b[38;5;124mo2\u001b[39m\u001b[38;5;124m\"\u001b[39m], \n\u001b[0;32m   (...)\u001b[0m\n\u001b[1;32m      8\u001b[0m     maximum_longitude\u001b[38;5;241m=\u001b[39m\u001b[38;5;241m180\u001b[39m,\n\u001b[1;32m      9\u001b[0m )\n",
      "\u001b[0;31mModuleNotFoundError\u001b[0m: No module named 'copernicusmarine'"
     ]
    }
   ],
   "source": [
    "import copernicusmarine as cmt\n",
    "dataset_lonlat = cmt.open_dataset(\n",
    "    dataset_id=\"cmems_mod_arc_bgc_my_ecosmo_P1D-m\", \n",
    "    variables=[\"chl\", \"zooc\", \"o2\"], \n",
    "    minimum_latitude=64.99684, \n",
    "    maximum_latitude=90, \n",
    "    minimum_longitude=-180, \n",
    "    maximum_longitude=180,\n",
    ")"
   ]
  },
  {
   "cell_type": "markdown",
   "metadata": {},
   "source": [
    "And use xarray to print the data in a tabular format:"
   ]
  },
  {
   "cell_type": "code",
   "execution_count": null,
   "metadata": {},
   "outputs": [],
   "source": [
    "dataset_lonlat"
   ]
  },
  {
   "cell_type": "markdown",
   "metadata": {},
   "source": [
    "We can see that the coordinates do not include any reference to x or y. This is the default geographical format for data. We can go a bit further and plot the data on a map. "
   ]
  },
  {
   "cell_type": "code",
   "execution_count": null,
   "metadata": {},
   "outputs": [],
   "source": [
    "import matplotlib.pyplot as plt \n",
    "import cartopy.crs as ccrs \n",
    "import cartopy.feature as cfeature \n",
    " \n",
    "# Select chlorophyll data for the given date \n",
    "chl = dataset_lonlat.sel(time=\"2021-01-01\").chl.squeeze() # No need for slice() if selecting one time \n",
    " \n",
    "# Create figure and axis with PlateCarree projection \n",
    "fig, ax = plt.subplots(figsize=(10, 6), subplot_kw={'projection': ccrs.NorthPolarStereo()}) \n",
    " \n",
    "# Add geographical features \n",
    "ax.set_extent([-180, 180, 60, 90], ccrs.PlateCarree()) \n",
    "ax.coastlines() \n",
    "ax.add_feature(cfeature.BORDERS, linestyle=\"--\", linewidth=0.75) \n",
    "ax.add_feature(cfeature.LAND, edgecolor=\"black\") \n",
    " \n",
    "# Create filled contour plot \n",
    "contour = ax.contourf(chl.longitude, chl.latitude, chl, levels=60, cmap='viridis', transform = ccrs.PlateCarree(), vmin=0.0130, vmax=0.03) \n",
    " \n",
    "# Add colorbar \n",
    "cbar = plt.colorbar(contour, ax=ax, orientation='vertical', fraction=0.046, pad=0.05) \n",
    "cbar.set_label(\"Chlorophyll Concentration\") \n",
    " \n",
    " \n",
    "# Show the plot \n",
    "plt.show() "
   ]
  },
  {
   "cell_type": "markdown",
   "metadata": {},
   "source": [
    "And we can see that in the bounds forms circles arcs, as would be expected with geographical grids. "
   ]
  },
  {
   "cell_type": "markdown",
   "metadata": {},
   "source": [
    "## Downloading and Plotting Data in a Stereographic Grid in Python "
   ]
  },
  {
   "cell_type": "markdown",
   "metadata": {},
   "source": [
    "To retrieve data in a stereographic grid, two key adjustments must be made compared to the previous example:\n",
    "\n",
    "- **Define Spatial Boundaries in Projected Coordinates**:\n",
    "    Instead of specifying limits using `minimum_longitude` and `minimum_latitude` (along with their maximum counterparts), spatial boundaries must be defined directly in projected coordinates using `minimum_x`, `maximum_x`, `minimum_y`, and `maximum_y`.\n",
    "\n",
    "- **Specify the originalGrid Dataset Part**:\n",
    "    By default, geographical coordinates are used. To ensure data is accessed in its original stereographic format, it is necessary to explicitly specify the `originalGrid` dataset part."
   ]
  },
  {
   "cell_type": "code",
   "execution_count": null,
   "metadata": {},
   "outputs": [],
   "source": [
    "import copernicusmarine as cmt\n",
    "# We filter the dask errors and warnings\n",
    "import dask\n",
    "import warnings\n",
    "# Disable dask warnings by specifying 'error' as its level of logging\n",
    "dask.config.set({'logging.distributed': 'error'})\n",
    "# Disable all other warnings\n",
    "warnings.filterwarnings(\"ignore\")\n",
    "dataset_stereographic = cmt.open_dataset(\n",
    "    dataset_id=\"cmems_mod_arc_bgc_my_ecosmo_P1D-m\", \n",
    "    variables=[\"chl\", \"zooc\", \"o2\"], \n",
    "    minimum_y=-20, \n",
    "    maximum_y=20, \n",
    "    minimum_x=-20, \n",
    "    maximum_x=20,\n",
    "    dataset_part=\"originalGrid\"\n",
    ")"
   ]
  },
  {
   "cell_type": "markdown",
   "metadata": {},
   "source": [
    "And we use xarray to present the data in a tabular format:"
   ]
  },
  {
   "cell_type": "code",
   "execution_count": null,
   "metadata": {},
   "outputs": [],
   "source": [
    "dataset_stereographic"
   ]
  },
  {
   "cell_type": "markdown",
   "metadata": {},
   "source": [
    "Or even plot it on a map"
   ]
  },
  {
   "cell_type": "code",
   "execution_count": null,
   "metadata": {},
   "outputs": [],
   "source": [
    "import matplotlib.pyplot as plt\n",
    "import cartopy.crs as ccrs\n",
    "import cartopy.feature as cfeature\n",
    "\n",
    "# Select chlorophyll data for the specific date\n",
    "chl = dataset_lonlat.sel(time=\"2021-01-01\").chl.squeeze() # Single time-point selection\n",
    "\n",
    "fig = plt.figure(figsize=(10,6), dpi=100)\n",
    "fig.patch.set_visible(True)\n",
    "fig.set_facecolor(\"white\")\n",
    "\n",
    "# Create an \"ax\" from which we add the projection\n",
    "ax = plt.axes(projection=ccrs.NorthPolarStereo())\n",
    "\n",
    "\n",
    "gl2 = ax.gridlines(draw_labels=True, color = 'lightgray', linewidth=0.1)\n",
    "gl2.right_labels = False\n",
    "gl2.top_labels = False\n",
    "ax.axis('off')\n",
    "\n",
    "ax.set_extent([-180, 180, 60, 90], crs=ccrs.PlateCarree())\n",
    "\n",
    "# Generate chlorophyll concentration plot\n",
    "contour = ax.pcolormesh(chl.x*100000, chl.y*100000, chl, cmap='viridis', transform=ccrs.NorthPolarStereo(-45), vmin=0.0130, vmax=0.03)\n",
    "\n",
    "# Add map features\n",
    "ax.coastlines()\n",
    "ax.add_feature(cfeature.BORDERS, linewidth=0.5, edgecolor=\"lightgray\")\n",
    "ax.add_feature(cfeature.RIVERS, linewidth=0.5)\n",
    "ax.add_feature(cfeature.LAND, linewidth=0.5, facecolor='#f1f1f1', edgecolor='lightgray', zorder=1)\n",
    "\n",
    "# Add and format colorbar\n",
    "cbar = plt.colorbar(contour, ax=ax, orientation='vertical', fraction=0.046, pad=0.05)\n",
    "cbar.set_label(\"Chlorophyll Concentration\")\n",
    "\n",
    "plt.xlabel(\"x (m)\")\n",
    "plt.ylabel(\"y (m)\")\n",
    "# Show the plot\n",
    "plt.show()"
   ]
  },
  {
   "cell_type": "markdown",
   "metadata": {},
   "source": [
    "Here the boundaries appear as straight lines on a map, as would be expected from a stereographic coordinate system. "
   ]
  },
  {
   "cell_type": "markdown",
   "metadata": {},
   "source": [
    "## Downloading Data in Different Grids in the CLI"
   ]
  },
  {
   "cell_type": "markdown",
   "metadata": {},
   "source": [
    "We can also retrieve the data using the Command-Line Interface.  Downloading data using the geographical coordinates is still the default and for example, we can download chloropyll, zooplankton carbon and dissolved oxygen concentration in the polar circle excluding a small disk around the pole using the following command: \n",
    "\n",
    "```bash\n",
    "copernicusmarine subset -i cmems_mod_arc_bgc_my_ecosmo_P1D-m -o cmems_mod_arc_bgc_my_ecosmo_P1D-m_subset -v chl -v zooc -v o2 --minimum-latitude 60 --maximum-latitude 85 --minimum-longitude -180 --maximum-longitude 180 --dry-run\n",
    "```\n",
    "\n",
    "We cannot easily retrieve the same zone in stereographic coordinates. But if we wish to retrieve the same variables in a zone of a few hundred square kilometers around the the North pole, you can change the following command: \n",
    "\n",
    "```bash\n",
    "copernicusmarine subset -i cmems_mod_arc_bgc_my_ecosmo_P1D-m -v chl -v zooc -v o2 --minimum-y -43 --maximum-y 28 --minimum-x -36 --maximum-x 38 --dataset-part originalGrid  --dry-run\n",
    "```\n",
    "\n",
    "The main difference are : \n",
    "\n",
    "- The indication for the bounds: \n",
    "\n",
    "     maximum and minimum longitude and latitude for geographical coordinates and maximum and minimum y and x for original coordinates. \n",
    "\n",
    "- The indication of the part with `--dataset-part originalGrid` \n",
    "\n",
    "If you try using original coordinates with geographical indications for the bounds, an error will be thrown and the data not downloaded: \n",
    "\n",
    "```bash\n",
    "copernicusmarine subset -i cmems_mod_arc_bgc_my_ecosmo_P1D-m -o cmems_mod_arc_bgc_my_ecosmo_P1D-m_subset -v chl -v zooc -v o2 --minimum-latitude 60 --maximum-latitude 85 --minimum-longitude -180 --maximum-longitude 180 --dataset-part originalGrid --dry-run \n",
    "```\n",
    "\n",
    "An error will also be thrown if you try using original coordinate indications with the default dataset part: \n",
    "\n",
    "```bash\n",
    "copernicusmarine subset -i cmems_mod_arc_bgc_my_ecosmo_P1D-m -v chl -v zooc -v o2 --minimum-y -43 --maximum-y 28 --minimum-x -36 --maximum-x 38 --dry-run  \n",
    "```\n",
    "\n",
    "The exception appears for the shortcuts –x –X and –y –Y which are common to the two sets of coordinates. This first command will retrieve zooplankton carbon, dissolved oxygen and chlorophyll concentration for geographical coordinates:\n",
    "\n",
    "```bash\n",
    "copernicusmarine subset -i cmems_mod_arc_bgc_my_ecosmo_P1D-m -o cmems_mod_arc_bgc_my_ecosmo_P1D-m_subset -v chl -v zooc -v o2 -y 60 -Y 85 -x -180 -X 180 --dry-run\n",
    "```\n",
    "\n",
    "And this one for stereographic coordinates: \n",
    "\n",
    "```bash\n",
    "copernicusmarine subset -i cmems_mod_arc_bgc_my_ecosmo_P1D-m -v chl -v zooc -v o2 -y -43 -Y 28 -x -36 -X 38 --dry-run --dataset-part originalGrid \n",
    "```\n",
    "\n",
    "But they will cover very different zones"
   ]
  }
 ],
 "metadata": {
  "kernelspec": {
   "display_name": "base",
   "language": "python",
   "name": "python3"
  },
  "language_info": {
   "codemirror_mode": {
    "name": "ipython",
    "version": 3
   },
   "file_extension": ".py",
   "mimetype": "text/x-python",
   "name": "python",
   "nbconvert_exporter": "python",
   "pygments_lexer": "ipython3",
   "version": "3.12.7"
  }
 },
 "nbformat": 4,
 "nbformat_minor": 4
}
